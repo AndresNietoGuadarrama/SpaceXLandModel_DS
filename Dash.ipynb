{
 "cells": [
  {
   "cell_type": "code",
   "execution_count": 1,
   "id": "aad9af9a",
   "metadata": {},
   "outputs": [],
   "source": [
    "# Import required libraries\n",
    "import pandas as pd\n",
    "import numpy as np\n",
    "import dash\n",
    "from dash import html,dcc\n",
    "from dash.dependencies import Input, Output, State\n",
    "import plotly.express as px"
   ]
  },
  {
   "cell_type": "code",
   "execution_count": 2,
   "id": "4c2ee55d",
   "metadata": {},
   "outputs": [],
   "source": [
    "# Read the airline data into pandas dataframe\n",
    "\n",
    "spacex_df = pd.read_csv(\"https://cf-courses-data.s3.us.cloud-object-storage.appdomain.cloud/IBM-DS0321EN-SkillsNetwork/datasets/spacex_launch_dash.csv\")\n",
    "max_payload = spacex_df['Payload Mass (kg)'].max()\n",
    "min_payload = spacex_df['Payload Mass (kg)'].min()"
   ]
  },
  {
   "cell_type": "code",
   "execution_count": 3,
   "id": "41c255a7",
   "metadata": {},
   "outputs": [],
   "source": [
    "# Create a dash application\n",
    "app = dash.Dash(__name__)"
   ]
  },
  {
   "cell_type": "code",
   "execution_count": 4,
   "id": "4bf405ce",
   "metadata": {},
   "outputs": [],
   "source": [
    "                               \n",
    "app.layout = html.Div(children=[html.H1('SpaceX Launch Records Dashboard',\n",
    "                                        style={'textAlign': 'center', 'color': '#503D36',\n",
    "                                               'font-size': 40}),  \n",
    "                                \n",
    "                                # TASK 1: Add a dropdown list to enable Launch Site selection\n",
    "                                # The default select value is for ALL sites\n",
    "                                # dcc.Dropdown(id='site-dropdown',...)\n",
    "                                \n",
    "                                dcc.Dropdown(id='site-dropdown',\n",
    "                                             options=[{'label': 'All Sites', 'value': 'ALL'},\n",
    "                                                      {'label': 'CCAFS LC-40', 'value': 'CCAFS LC-40'},\n",
    "                                                      {'label': 'CCAFS SLC-40', 'value': 'CCAFS SLC-40'},\n",
    "                                                      {'label': 'KSC LC-39A', 'value': 'KSC LC-39A'},\n",
    "                                                      {'label': 'VAFB SLC-4E', 'value': 'VAFB SLC-4E'}],\n",
    "                                             placeholder=\"Select a Launch Site\",\n",
    "                                             searchable=True),\n",
    "                                \n",
    "                                html.Br(),\n",
    "\n",
    "                                # TASK 2: Add a pie chart to show the total successful launches count for all sites\n",
    "                                # If a specific launch site was selected, show the Success vs. Failed counts for the site\n",
    "                                \n",
    "                                html.Div([ ],id='success-pie-chart'),\n",
    "                                html.Br(),\n",
    "\n",
    "                                html.P(\"Payload range (Kg):\"),\n",
    "#                                 # TASK 3: Add a slider to select payload range\n",
    "                                dcc.RangeSlider(id='payload-slider',\n",
    "                                                min=0, \n",
    "                                                max=10000, \n",
    "                                                step=1000,\n",
    "                                                marks={0: '0',\n",
    "                                                       2500: '2500',\n",
    "                                                       5000: '5000',\n",
    "                                                       7500: '7500',\n",
    "                                                       10000: '1E4'},\n",
    "                                                value=[min_payload, max_payload],\n",
    "                                                tooltip={'always_visible':True}),\n",
    "\n",
    "#                                 TASK 4: Add a scatter chart to show the correlation between payload and launch success\n",
    "                                html.Div([ ],id='payload-chart'),\n",
    "                                ])\n",
    "\n"
   ]
  },
  {
   "cell_type": "code",
   "execution_count": 5,
   "id": "d8c07514",
   "metadata": {},
   "outputs": [],
   "source": [
    "# TASK 2:\n",
    "# Add a callback function for `site-dropdown` as input, `success-pie-chart` as output\n",
    "\n",
    "@app.callback(Output(component_id='success-pie-chart', component_property='children'),\n",
    "              Input(component_id='site-dropdown', component_property='value'),\n",
    "              State(component_id='success-pie-chart', component_property='children'))\n",
    "\n",
    "def get_pie_chart(entered_site,c1):\n",
    "    \n",
    "    if entered_site == 'ALL':\n",
    "        data = spacex_df\n",
    "        titulo='by launch site'\n",
    "        fig = px.pie(data, \n",
    "                     values='class',\n",
    "                     names='Launch Site',\n",
    "                     title='Total success rate '+titulo)\n",
    "    else:\n",
    "        data = spacex_df[spacex_df['Launch Site']==entered_site].groupby('class').mean()\n",
    "        \n",
    "        titulo='Total success rate for site '+entered_site\n",
    "        \n",
    "        rates=[spacex_df.groupby('Launch Site')['class'].mean().loc[entered_site],\n",
    "               1-spacex_df.groupby('Launch Site')['class'].mean().loc[entered_site]]\n",
    "        \n",
    "        labels=[1,0]\n",
    "        df_pie=pd.DataFrame({'etiquetas':labels,'valores':rates})\n",
    "        \n",
    "        fig = px.pie(df_pie, \n",
    "                     values='valores',\n",
    "                     names='etiquetas',\n",
    "                     title=titulo)\n",
    "    \n",
    "    return dcc.Graph(figure=fig)\n",
    "        \n",
    "@app.callback(Output(component_id='payload-chart', component_property='children'),\n",
    "              Input(component_id='site-dropdown', component_property='value'),\n",
    "              Input(component_id='payload-slider', component_property='value'),\n",
    "              State(component_id='payload-chart', component_property='children'))\n",
    "\n",
    "def get_scatter_chart(entered_site,slider,c1):\n",
    "    \n",
    "    val_min=slider[0]\n",
    "    val_max=slider[1]\n",
    "    scatter_data=spacex_df[spacex_df['Payload Mass (kg)']>=val_min]\n",
    "    scatter_data=scatter_data[scatter_data['Payload Mass (kg)']<=val_max]\n",
    "    \n",
    "    if entered_site == 'ALL':\n",
    "        \n",
    "        fig_scatter=px.scatter(data_frame=scatter_data,\n",
    "                               x='Payload Mass (kg)',\n",
    "                               y='class',\n",
    "                               color=\"Booster Version Category\",\n",
    "                               title='Correlation between payload (Kg) and Success landing for all sites')\n",
    "    else:\n",
    "        \n",
    "        fig_scatter=px.scatter(data_frame=scatter_data[scatter_data['Launch Site']==entered_site],\n",
    "                               x='Payload Mass (kg)',\n",
    "                               y='class',\n",
    "                               color=\"Booster Version Category\",\n",
    "                               title='Correlation between payload (Kg) and Success landing for site: '+entered_site)\n",
    "    \n",
    "    return dcc.Graph(figure=fig_scatter)"
   ]
  },
  {
   "cell_type": "code",
   "execution_count": 6,
   "id": "d758866d",
   "metadata": {},
   "outputs": [],
   "source": [
    "# TASK 3:\n",
    "# Add a callback function for `site-dropdown` and `payload-slider` as inputs, `success-payload-scatter-chart` as output"
   ]
  },
  {
   "cell_type": "code",
   "execution_count": 7,
   "id": "c21ac6c3",
   "metadata": {},
   "outputs": [
    {
     "name": "stdout",
     "output_type": "stream",
     "text": [
      "Dash is running on http://127.0.0.1:8050/\n",
      "\n",
      " * Serving Flask app '__main__'\n",
      " * Debug mode: off\n"
     ]
    },
    {
     "name": "stderr",
     "output_type": "stream",
     "text": [
      "WARNING: This is a development server. Do not use it in a production deployment. Use a production WSGI server instead.\n",
      " * Running on http://127.0.0.1:8050\n",
      "Press CTRL+C to quit\n",
      "127.0.0.1 - - [18/Jan/2023 11:54:43] \"GET / HTTP/1.1\" 200 -\n",
      "127.0.0.1 - - [18/Jan/2023 11:54:43] \"GET /_dash-dependencies HTTP/1.1\" 200 -\n",
      "127.0.0.1 - - [18/Jan/2023 11:54:43] \"GET /_dash-layout HTTP/1.1\" 200 -\n",
      "127.0.0.1 - - [18/Jan/2023 11:54:43] \"GET /_dash-component-suites/dash/dcc/async-dropdown.js HTTP/1.1\" 304 -\n",
      "127.0.0.1 - - [18/Jan/2023 11:54:43] \"GET /_dash-component-suites/dash/dcc/async-slider.js HTTP/1.1\" 304 -\n"
     ]
    },
    {
     "name": "stdout",
     "output_type": "stream",
     "text": [
      "Exception on /_dash-update-component [POST]\n",
      "Traceback (most recent call last):\n",
      "  File \"C:\\Users\\AN012491\\AppData\\Local\\Continuum\\anaconda3\\lib\\site-packages\\flask\\app.py\", line 2525, in wsgi_app\n",
      "    response = self.full_dispatch_request()\n",
      "  File \"C:\\Users\\AN012491\\AppData\\Local\\Continuum\\anaconda3\\lib\\site-packages\\flask\\app.py\", line 1822, in full_dispatch_request\n",
      "    rv = self.handle_user_exception(e)\n",
      "  File \"C:\\Users\\AN012491\\AppData\\Local\\Continuum\\anaconda3\\lib\\site-packages\\flask\\app.py\", line 1820, in full_dispatch_request\n",
      "    rv = self.dispatch_request()\n",
      "  File \"C:\\Users\\AN012491\\AppData\\Local\\Continuum\\anaconda3\\lib\\site-packages\\flask\\app.py\", line 1796, in dispatch_request\n",
      "    return self.ensure_sync(self.view_functions[rule.endpoint])(**view_args)\n",
      "  File \"C:\\Users\\AN012491\\AppData\\Local\\Continuum\\anaconda3\\lib\\site-packages\\dash\\dash.py\", line 1280, in dispatch\n",
      "    callback_context=g,\n",
      "  File \"C:\\Users\\AN012491\\AppData\\Local\\Continuum\\anaconda3\\lib\\site-packages\\dash\\_callback.py\", line 440, in add_context\n",
      "    output_value = func(*func_args, **func_kwargs)  # %% callback invoked %%\n",
      "  File \"<ipython-input-5-ddd9246968ed>\", line 20, in get_pie_chart\n",
      "    titulo='Total success rate for site '+entered_site\n",
      "TypeError: can only concatenate str (not \"NoneType\") to str\n"
     ]
    },
    {
     "name": "stderr",
     "output_type": "stream",
     "text": [
      "127.0.0.1 - - [18/Jan/2023 11:54:43] \"POST /_dash-update-component HTTP/1.1\" 500 -\n"
     ]
    },
    {
     "name": "stdout",
     "output_type": "stream",
     "text": [
      "Exception on /_dash-update-component [POST]\n",
      "Traceback (most recent call last):\n",
      "  File \"C:\\Users\\AN012491\\AppData\\Local\\Continuum\\anaconda3\\lib\\site-packages\\flask\\app.py\", line 2525, in wsgi_app\n",
      "    response = self.full_dispatch_request()\n",
      "  File \"C:\\Users\\AN012491\\AppData\\Local\\Continuum\\anaconda3\\lib\\site-packages\\flask\\app.py\", line 1822, in full_dispatch_request\n",
      "    rv = self.handle_user_exception(e)\n",
      "  File \"C:\\Users\\AN012491\\AppData\\Local\\Continuum\\anaconda3\\lib\\site-packages\\flask\\app.py\", line 1820, in full_dispatch_request\n",
      "    rv = self.dispatch_request()\n",
      "  File \"C:\\Users\\AN012491\\AppData\\Local\\Continuum\\anaconda3\\lib\\site-packages\\flask\\app.py\", line 1796, in dispatch_request\n",
      "    return self.ensure_sync(self.view_functions[rule.endpoint])(**view_args)\n",
      "  File \"C:\\Users\\AN012491\\AppData\\Local\\Continuum\\anaconda3\\lib\\site-packages\\dash\\dash.py\", line 1280, in dispatch\n",
      "    callback_context=g,\n",
      "  File \"C:\\Users\\AN012491\\AppData\\Local\\Continuum\\anaconda3\\lib\\site-packages\\dash\\_callback.py\", line 440, in add_context\n",
      "    output_value = func(*func_args, **func_kwargs)  # %% callback invoked %%\n",
      "  File \"<ipython-input-5-ddd9246968ed>\", line 60, in get_scatter_chart\n",
      "    title='Correlation between payload (Kg) and Success landing for site: '+entered_site)\n",
      "TypeError: can only concatenate str (not \"NoneType\") to str\n"
     ]
    },
    {
     "name": "stderr",
     "output_type": "stream",
     "text": [
      "127.0.0.1 - - [18/Jan/2023 11:54:43] \"POST /_dash-update-component HTTP/1.1\" 500 -\n",
      "127.0.0.1 - - [18/Jan/2023 11:54:48] \"POST /_dash-update-component HTTP/1.1\" 200 -\n",
      "127.0.0.1 - - [18/Jan/2023 11:54:48] \"POST /_dash-update-component HTTP/1.1\" 200 -\n",
      "127.0.0.1 - - [18/Jan/2023 11:54:48] \"GET /_dash-component-suites/dash/dcc/async-graph.js HTTP/1.1\" 304 -\n",
      "127.0.0.1 - - [18/Jan/2023 11:54:48] \"GET /_dash-component-suites/dash/dcc/async-plotlyjs.js HTTP/1.1\" 304 -\n",
      "127.0.0.1 - - [18/Jan/2023 11:54:54] \"POST /_dash-update-component HTTP/1.1\" 200 -\n",
      "127.0.0.1 - - [18/Jan/2023 11:54:54] \"POST /_dash-update-component HTTP/1.1\" 200 -\n"
     ]
    }
   ],
   "source": [
    "# Run the app\n",
    "if __name__ == '__main__':\n",
    "    app.run_server()"
   ]
  },
  {
   "cell_type": "code",
   "execution_count": null,
   "id": "5345e8ff",
   "metadata": {},
   "outputs": [],
   "source": []
  }
 ],
 "metadata": {
  "kernelspec": {
   "display_name": "Python 3",
   "language": "python",
   "name": "python3"
  },
  "language_info": {
   "codemirror_mode": {
    "name": "ipython",
    "version": 3
   },
   "file_extension": ".py",
   "mimetype": "text/x-python",
   "name": "python",
   "nbconvert_exporter": "python",
   "pygments_lexer": "ipython3",
   "version": "3.7.9"
  }
 },
 "nbformat": 4,
 "nbformat_minor": 5
}
